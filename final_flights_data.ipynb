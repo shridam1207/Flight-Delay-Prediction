{
 "cells": [
  {
   "cell_type": "code",
   "execution_count": 15,
   "metadata": {
    "colab": {},
    "colab_type": "code",
    "id": "9jAv2fFrx-7o"
   },
   "outputs": [],
   "source": [
    "import requests\n",
    "from bs4 import BeautifulSoup\n",
    "import numpy as np\n",
    "import pandas as pd\n"
   ]
  },
  {
   "cell_type": "code",
   "execution_count": 16,
   "metadata": {
    "colab": {
     "base_uri": "https://localhost:8080/",
     "height": 121
    },
    "colab_type": "code",
    "id": "jy44bQ192DsZ",
    "outputId": "ada0ad5c-5be9-4acb-8a30-2897f74aa619"
   },
   "outputs": [
    {
     "name": "stdout",
     "output_type": "stream",
     "text": [
      "Requirement already satisfied: cfscrape in c:\\users\\shridam\\anaconda3\\lib\\site-packages (2.0.8)\n",
      "Requirement already satisfied: requests>=2.6.1 in c:\\users\\shridam\\anaconda3\\lib\\site-packages (from cfscrape) (2.22.0)\n",
      "Requirement already satisfied: certifi>=2017.4.17 in c:\\users\\shridam\\anaconda3\\lib\\site-packages (from requests>=2.6.1->cfscrape) (2019.9.11)\n",
      "Requirement already satisfied: chardet<3.1.0,>=3.0.2 in c:\\users\\shridam\\anaconda3\\lib\\site-packages (from requests>=2.6.1->cfscrape) (3.0.4)\n",
      "Requirement already satisfied: urllib3!=1.25.0,!=1.25.1,<1.26,>=1.21.1 in c:\\users\\shridam\\anaconda3\\lib\\site-packages (from requests>=2.6.1->cfscrape) (1.24.2)\n",
      "Requirement already satisfied: idna<2.9,>=2.5 in c:\\users\\shridam\\anaconda3\\lib\\site-packages (from requests>=2.6.1->cfscrape) (2.8)\n"
     ]
    }
   ],
   "source": [
    "!pip install cfscrape"
   ]
  },
  {
   "cell_type": "code",
   "execution_count": 17,
   "metadata": {
    "colab": {},
    "colab_type": "code",
    "id": "smnLVNNM0gR8"
   },
   "outputs": [],
   "source": [
    "import cfscrape\n",
    "scraper =cfscrape.create_scraper()\n"
   ]
  },
  {
   "cell_type": "code",
   "execution_count": 18,
   "metadata": {
    "colab": {},
    "colab_type": "code",
    "id": "5hkZJ0QcfRmu"
   },
   "outputs": [],
   "source": [
    "#delhi to mumbai\n",
    "#flights = ['6E171','6E5335','6E993','6E167','6E179','6E181','6E5339','6E223','6E957','6E189','6E755','6E191','6E129','6E843','6E197','6E185','6E665','6E155','I5314','I5716','I5332','I5482','AI349','AI887','AI665','AI678','AI865','AI315','AI317','AI636','AI102','AI441','AI24','AI624','AI805','AI191','AI863','G82501','G8338','G8530','G8334','G8336','G8640','G8446','G8429','G8544','SG8287','SG8153','SG8701','SG8723','SG8911','SG8161','SG8709','SG8169','SG8715','SG8159','UK975','UK923','UK943','UK963','UK927','UK995','UK945','UK993','UK941','UK955','UK977','UK985','UK953','UK981','UK967']"
   ]
  },
  {
   "cell_type": "code",
   "execution_count": 19,
   "metadata": {
    "colab": {},
    "colab_type": "code",
    "id": "hs-Si-um2OlA"
   },
   "outputs": [],
   "source": [
    "#bangalore to delhi\n",
    "#flights = ['6E2625','6E2135','6E2562','6E2132','6E2228','6E5032','6E5022','6E2032','6E2988','6E2783','6E2808','6E2716','6E2305','6E2289','6E2484','I52878','I5737','I5741','I5722','AI804','AI505','AI501','AI503','AI87','AI173','AI802','G8116','G8117','G8120','G8118','SG8906','SG136','SG192','SG198','SG8720','UK110','UK812','UK816','UK820','UK814','UK818']"
   ]
  },
  {
   "cell_type": "code",
   "execution_count": 20,
   "metadata": {},
   "outputs": [],
   "source": [
    "#delhi_to_bangalore\n",
    "flights = ['6E2376','6E2624','6E2134','6E5031','6E2458','6E2031','6E2563','6E2297','6E2465','6E2839','6E5011','6E2637','6E5021','6E2131','6E2273','6E2977','I5738','I5740','I52879','I5721','G8113','G8112','G8124','G8557','SG8719','SG8905','SG143','SG197','SG8717','SG191','UK811','UK815','UK819','UK817','UK813','UK807','AI803','AI506','AI502','AI174','AI801','AI504']"
   ]
  },
  {
   "cell_type": "code",
   "execution_count": 21,
   "metadata": {
    "colab": {
     "base_uri": "https://localhost:8080/",
     "height": 35
    },
    "colab_type": "code",
    "id": "G28c8S3ofcVr",
    "outputId": "c49737a1-0ed1-4b34-f801-8ae47817b02f"
   },
   "outputs": [
    {
     "data": {
      "text/plain": [
       "42"
      ]
     },
     "execution_count": 21,
     "metadata": {},
     "output_type": "execute_result"
    }
   ],
   "source": [
    "len(flights)"
   ]
  },
  {
   "cell_type": "code",
   "execution_count": 22,
   "metadata": {
    "colab": {},
    "colab_type": "code",
    "id": "17UWpc2xyBGr"
   },
   "outputs": [],
   "source": [
    "#flights = '6E171','6E5335','6E993','6E167','6E179','6E181','6E5339','6E223','6E957','6E189','6E755','6E191','6E129','6E843','6E197']\n",
    "#flights = ['6E185','6E665','6E155','I5314','I5716','I5332','I5482','AI349','AI887','AI665','AI678','AI865','AI315','AI317','AI636','AI102','AI441','AI24','AI624','AI805','AI191','AI863','G82501','G8338','G8530','G8334','G8336','G8640','G8446','G8429','G8544','SG8287','SG8153','SG8701','SG8723','SG8911','SG8161','SG8709','SG8169','SG8715','SG8159','UK975','UK923','UK943','UK963','UK927','UK995','UK945','UK993','UK941','UK955','UK977','UK985','UK953','UK981','UK967']\n",
    "table =[]\n",
    "for mm in range(11,13):\n",
    "    for dd in range(1,32):\n",
    "        for flight in flights:\n",
    "            if dd in range(1,10):\n",
    "              url = \"https://airportinfo.live/flight/\"+flight+\"?d=2019-\"+str(mm)+\"-0\"+str(dd)\n",
    "            else:\n",
    "              url = \"https://airportinfo.live/flight/\"+flight+\"?d=2019-\"+str(mm)+\"-\"+str(dd)\n",
    "            req = scraper.get(url)\n",
    "            webp = req.text\n",
    "            soup = BeautifulSoup(webp, 'html.parser')\n",
    "            airline =(soup.find(\"span\", \"bold flightAirline\")).text\n",
    "            flight_number =(soup.find(\"span\", \"flightNumber\")).text\n",
    "            #duration =(soup.find(\"span\", \"duration bold \")).text\n",
    "            distance =(soup.find(\"span\", \"duration_distance\")).text\n",
    "            distance = distance.split()[3] \n",
    "            from_city =(soup.find(\"span\", \"bold from_city\")).text\n",
    "            to_city =(soup.find(\"span\", \"bold to_city\")).text\n",
    "            times = soup.findAll(\"div\",\"important_time\")\n",
    "            times_text = [t.text for t in times]\n",
    "            date = url[-10:]\n",
    "            new_date = date.split('-')\n",
    "            year = new_date[0][-4:]\n",
    "            month = new_date[1]\n",
    "            day = new_date[2]\n",
    "            row = []\n",
    "            row.append(airline)\n",
    "            row.append(flight_number)\n",
    "            row.append(from_city)\n",
    "            row.append(to_city)\n",
    "            row.append(distance)\n",
    "            #row.append(duration)\n",
    "            row.append(day)\n",
    "            row.append(month)\n",
    "            row.append(year)\n",
    "            row = row + times_text\n",
    "            table.append(row)\n",
    "\n"
   ]
  },
  {
   "cell_type": "code",
   "execution_count": 23,
   "metadata": {
    "colab": {
     "base_uri": "https://localhost:8080/",
     "height": 35
    },
    "colab_type": "code",
    "id": "FmcXbGkje55Q",
    "outputId": "3380930e-3973-4cc8-fecc-222068ec4622",
    "scrolled": true
   },
   "outputs": [
    {
     "name": "stdout",
     "output_type": "stream",
     "text": [
      "42\n"
     ]
    }
   ],
   "source": [
    "print(len(flights))"
   ]
  },
  {
   "cell_type": "code",
   "execution_count": 25,
   "metadata": {
    "colab": {},
    "colab_type": "code",
    "id": "e11SSxmovzAn"
   },
   "outputs": [],
   "source": [
    "    for dd in range(1,32):\n",
    "        for flight in flights: \n",
    "            if dd in range(1,10):\n",
    "              url = \"https://airportinfo.live/flight/\"+flight+\"?d=2019-\"+str(mm)+\"-0\"+str(dd)\n",
    "            else:\n",
    "              url = \"https://airportinfo.live/flight/\"+flight+\"?d=2019-\"+str(mm)+\"-\"+str(dd)\n",
    "            req = scraper.get(url)\n",
    "            webp = req.text\n",
    "            soup = BeautifulSoup(webp, 'html.parser')\n",
    "            airline =(soup.find(\"span\", \"bold flightAirline\")).text\n",
    "            flight_number =(soup.find(\"span\", \"flightNumber\")).text\n",
    "            #duration =(soup.find(\"span\", \"duration bold \")).text\n",
    "            distance =(soup.find(\"span\", \"duration_distance\")).text\n",
    "            distance = distance.split()[3] \n",
    "            from_city =(soup.find(\"span\", \"bold from_city\")).text\n",
    "            to_city =(soup.find(\"span\", \"bold to_city\")).text\n",
    "            times = soup.findAll(\"div\",\"important_time\")\n",
    "            times_text = [t.text for t in times]\n",
    "            date = url[-10:]\n",
    "            new_date = date.split('-')\n",
    "            year = new_date[0][-4:]\n",
    "            month = new_date[1]\n",
    "            day = new_date[2]\n",
    "            row = []\n",
    "            row.append(airline)\n",
    "            row.append(flight_number)\n",
    "            row.append(from_city)\n",
    "            row.append(to_city)\n",
    "            row.append(distance)\n",
    "            #row.append(duration)\n",
    "            row.append(day)\n",
    "            row.append(month)\n",
    "            row.append(year)\n",
    "            row = row + times_text\n",
    "            table.append(row)"
   ]
  },
  {
   "cell_type": "code",
   "execution_count": 27,
   "metadata": {
    "colab": {},
    "colab_type": "code",
    "id": "ntLDVtHH03Lh"
   },
   "outputs": [],
   "source": [
    "tab_arr = np.array(table)"
   ]
  },
  {
   "cell_type": "code",
   "execution_count": 28,
   "metadata": {
    "colab": {},
    "colab_type": "code",
    "id": "7K5Qz03u1EJV"
   },
   "outputs": [],
   "source": [
    "data = pd.DataFrame(tab_arr, columns = ['Airline','Flight Number','Origin Airport','Destination Airport','Distance(Km)','DD','MM','YY','Scheduled Departure','Scheduled Arrival','Actual Departure','Actual Arrival'])"
   ]
  },
  {
   "cell_type": "code",
   "execution_count": 29,
   "metadata": {
    "colab": {
     "base_uri": "https://localhost:8080/",
     "height": 433
    },
    "colab_type": "code",
    "id": "CmbgaUTeBGPB",
    "outputId": "c4a2ca2a-a811-4bb3-b4a8-812c69e300db"
   },
   "outputs": [
    {
     "data": {
      "text/html": [
       "<div>\n",
       "<style scoped>\n",
       "    .dataframe tbody tr th:only-of-type {\n",
       "        vertical-align: middle;\n",
       "    }\n",
       "\n",
       "    .dataframe tbody tr th {\n",
       "        vertical-align: top;\n",
       "    }\n",
       "\n",
       "    .dataframe thead th {\n",
       "        text-align: right;\n",
       "    }\n",
       "</style>\n",
       "<table border=\"1\" class=\"dataframe\">\n",
       "  <thead>\n",
       "    <tr style=\"text-align: right;\">\n",
       "      <th></th>\n",
       "      <th>Airline</th>\n",
       "      <th>Flight Number</th>\n",
       "      <th>Origin Airport</th>\n",
       "      <th>Destination Airport</th>\n",
       "      <th>Distance(Km)</th>\n",
       "      <th>DD</th>\n",
       "      <th>MM</th>\n",
       "      <th>YY</th>\n",
       "      <th>Scheduled Departure</th>\n",
       "      <th>Scheduled Arrival</th>\n",
       "      <th>Actual Departure</th>\n",
       "      <th>Actual Arrival</th>\n",
       "    </tr>\n",
       "  </thead>\n",
       "  <tbody>\n",
       "    <tr>\n",
       "      <td>0</td>\n",
       "      <td>6E</td>\n",
       "      <td>2376</td>\n",
       "      <td>New Delhi</td>\n",
       "      <td>Bangalore</td>\n",
       "      <td>1736</td>\n",
       "      <td>01</td>\n",
       "      <td>11</td>\n",
       "      <td>2019</td>\n",
       "      <td>0:05</td>\n",
       "      <td>2:55</td>\n",
       "      <td>0:12</td>\n",
       "      <td>2:40</td>\n",
       "    </tr>\n",
       "    <tr>\n",
       "      <td>1</td>\n",
       "      <td>6E</td>\n",
       "      <td>2624</td>\n",
       "      <td>New Delhi</td>\n",
       "      <td>Bangalore</td>\n",
       "      <td>1736</td>\n",
       "      <td>01</td>\n",
       "      <td>11</td>\n",
       "      <td>2019</td>\n",
       "      <td>2:00</td>\n",
       "      <td>4:50</td>\n",
       "      <td>2:17</td>\n",
       "      <td>4:42</td>\n",
       "    </tr>\n",
       "    <tr>\n",
       "      <td>2</td>\n",
       "      <td>6E</td>\n",
       "      <td>2134</td>\n",
       "      <td>New Delhi</td>\n",
       "      <td>Bangalore</td>\n",
       "      <td>1736</td>\n",
       "      <td>01</td>\n",
       "      <td>11</td>\n",
       "      <td>2019</td>\n",
       "      <td>3:05</td>\n",
       "      <td>5:55</td>\n",
       "      <td>3:11</td>\n",
       "      <td>5:39</td>\n",
       "    </tr>\n",
       "    <tr>\n",
       "      <td>3</td>\n",
       "      <td>6E</td>\n",
       "      <td>5031</td>\n",
       "      <td>New Delhi</td>\n",
       "      <td>Bangalore</td>\n",
       "      <td>1736</td>\n",
       "      <td>01</td>\n",
       "      <td>11</td>\n",
       "      <td>2019</td>\n",
       "      <td>5:05</td>\n",
       "      <td>7:55</td>\n",
       "      <td>5:05</td>\n",
       "      <td>7:55</td>\n",
       "    </tr>\n",
       "    <tr>\n",
       "      <td>4</td>\n",
       "      <td>6E</td>\n",
       "      <td>2458</td>\n",
       "      <td>New Delhi</td>\n",
       "      <td>Bangalore</td>\n",
       "      <td>1736</td>\n",
       "      <td>01</td>\n",
       "      <td>11</td>\n",
       "      <td>2019</td>\n",
       "      <td>6:10</td>\n",
       "      <td>9:10</td>\n",
       "      <td>6:25</td>\n",
       "      <td>8:53</td>\n",
       "    </tr>\n",
       "    <tr>\n",
       "      <td>...</td>\n",
       "      <td>...</td>\n",
       "      <td>...</td>\n",
       "      <td>...</td>\n",
       "      <td>...</td>\n",
       "      <td>...</td>\n",
       "      <td>...</td>\n",
       "      <td>...</td>\n",
       "      <td>...</td>\n",
       "      <td>...</td>\n",
       "      <td>...</td>\n",
       "      <td>...</td>\n",
       "      <td>...</td>\n",
       "    </tr>\n",
       "    <tr>\n",
       "      <td>4380</td>\n",
       "      <td>AI</td>\n",
       "      <td>506</td>\n",
       "      <td>New Delhi</td>\n",
       "      <td>Bangalore</td>\n",
       "      <td>1736</td>\n",
       "      <td>31</td>\n",
       "      <td>12</td>\n",
       "      <td>2019</td>\n",
       "      <td>9:30</td>\n",
       "      <td>12:05</td>\n",
       "      <td>9:27</td>\n",
       "      <td>11:53</td>\n",
       "    </tr>\n",
       "    <tr>\n",
       "      <td>4381</td>\n",
       "      <td>AI</td>\n",
       "      <td>502</td>\n",
       "      <td>New Delhi</td>\n",
       "      <td>Bangalore</td>\n",
       "      <td>1736</td>\n",
       "      <td>31</td>\n",
       "      <td>12</td>\n",
       "      <td>2019</td>\n",
       "      <td>13:30</td>\n",
       "      <td>16:15</td>\n",
       "      <td>13:30</td>\n",
       "      <td>16:00</td>\n",
       "    </tr>\n",
       "    <tr>\n",
       "      <td>4382</td>\n",
       "      <td>AI</td>\n",
       "      <td>174</td>\n",
       "      <td>New Delhi</td>\n",
       "      <td>Bangalore</td>\n",
       "      <td>1736</td>\n",
       "      <td>31</td>\n",
       "      <td>12</td>\n",
       "      <td>2019</td>\n",
       "      <td>17:45</td>\n",
       "      <td>20:25</td>\n",
       "      <td>17:54</td>\n",
       "      <td>20:39</td>\n",
       "    </tr>\n",
       "    <tr>\n",
       "      <td>4383</td>\n",
       "      <td>AI</td>\n",
       "      <td>801</td>\n",
       "      <td>New Delhi</td>\n",
       "      <td>Bangalore</td>\n",
       "      <td>1736</td>\n",
       "      <td>31</td>\n",
       "      <td>12</td>\n",
       "      <td>2019</td>\n",
       "      <td>19:25</td>\n",
       "      <td>21:55</td>\n",
       "      <td>19:31</td>\n",
       "      <td>22:16</td>\n",
       "    </tr>\n",
       "    <tr>\n",
       "      <td>4384</td>\n",
       "      <td>AI</td>\n",
       "      <td>504</td>\n",
       "      <td>New Delhi</td>\n",
       "      <td>Bangalore</td>\n",
       "      <td>1736</td>\n",
       "      <td>31</td>\n",
       "      <td>12</td>\n",
       "      <td>2019</td>\n",
       "      <td>20:30</td>\n",
       "      <td>23:15</td>\n",
       "      <td>20:51</td>\n",
       "      <td>23:33</td>\n",
       "    </tr>\n",
       "  </tbody>\n",
       "</table>\n",
       "<p>4385 rows × 12 columns</p>\n",
       "</div>"
      ],
      "text/plain": [
       "     Airline Flight Number Origin Airport Destination Airport Distance(Km)  \\\n",
       "0         6E          2376      New Delhi           Bangalore         1736   \n",
       "1         6E          2624      New Delhi           Bangalore         1736   \n",
       "2         6E          2134      New Delhi           Bangalore         1736   \n",
       "3         6E          5031      New Delhi           Bangalore         1736   \n",
       "4         6E          2458      New Delhi           Bangalore         1736   \n",
       "...      ...           ...            ...                 ...          ...   \n",
       "4380      AI           506      New Delhi           Bangalore         1736   \n",
       "4381      AI           502      New Delhi           Bangalore         1736   \n",
       "4382      AI           174      New Delhi           Bangalore         1736   \n",
       "4383      AI           801      New Delhi           Bangalore         1736   \n",
       "4384      AI           504      New Delhi           Bangalore         1736   \n",
       "\n",
       "      DD  MM    YY Scheduled Departure Scheduled Arrival Actual Departure  \\\n",
       "0     01  11  2019                0:05              2:55             0:12   \n",
       "1     01  11  2019                2:00              4:50             2:17   \n",
       "2     01  11  2019                3:05              5:55             3:11   \n",
       "3     01  11  2019                5:05              7:55             5:05   \n",
       "4     01  11  2019                6:10              9:10             6:25   \n",
       "...   ..  ..   ...                 ...               ...              ...   \n",
       "4380  31  12  2019                9:30             12:05             9:27   \n",
       "4381  31  12  2019               13:30             16:15            13:30   \n",
       "4382  31  12  2019               17:45             20:25            17:54   \n",
       "4383  31  12  2019               19:25             21:55            19:31   \n",
       "4384  31  12  2019               20:30             23:15            20:51   \n",
       "\n",
       "     Actual Arrival  \n",
       "0              2:40  \n",
       "1              4:42  \n",
       "2              5:39  \n",
       "3              7:55  \n",
       "4              8:53  \n",
       "...             ...  \n",
       "4380          11:53  \n",
       "4381          16:00  \n",
       "4382          20:39  \n",
       "4383          22:16  \n",
       "4384          23:33  \n",
       "\n",
       "[4385 rows x 12 columns]"
      ]
     },
     "execution_count": 29,
     "metadata": {},
     "output_type": "execute_result"
    }
   ],
   "source": [
    "data"
   ]
  },
  {
   "cell_type": "code",
   "execution_count": 30,
   "metadata": {
    "colab": {},
    "colab_type": "code",
    "id": "IDq-HSDvuLPH"
   },
   "outputs": [],
   "source": [
    "data.to_csv(\"delhi_to_bangalore_3_mnths.csv\")"
   ]
  },
  {
   "cell_type": "code",
   "execution_count": null,
   "metadata": {
    "colab": {},
    "colab_type": "code",
    "id": "vHkFNuRDubTk"
   },
   "outputs": [],
   "source": []
  }
 ],
 "metadata": {
  "colab": {
   "collapsed_sections": [],
   "name": "Untitled0.ipynb",
   "provenance": []
  },
  "kernelspec": {
   "display_name": "Python 3",
   "language": "python",
   "name": "python3"
  },
  "language_info": {
   "codemirror_mode": {
    "name": "ipython",
    "version": 3
   },
   "file_extension": ".py",
   "mimetype": "text/x-python",
   "name": "python",
   "nbconvert_exporter": "python",
   "pygments_lexer": "ipython3",
   "version": "3.7.4"
  }
 },
 "nbformat": 4,
 "nbformat_minor": 1
}
